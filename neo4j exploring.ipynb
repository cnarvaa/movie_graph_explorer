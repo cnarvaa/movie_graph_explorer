{
 "cells": [
  {
   "cell_type": "code",
   "execution_count": 1,
   "metadata": {},
   "outputs": [],
   "source": [
    "from neo4j import GraphDatabase\n",
    "from json import dumps\n",
    "import time\n",
    "from pandas import DataFrame\n",
    "\n",
    "class KnowledgeRecommendation(object):\n",
    "\n",
    "    def __init__(self, uri, user, password):\n",
    "        self._driver = GraphDatabase.driver(uri, auth=(user, password))\n",
    "        self.session = self._driver.session()\n",
    "\n",
    "    def close(self):\n",
    "        self._driver.close()\n",
    "        \n",
    "#     @staticmethod\n",
    "#     def _epoch_to_date(epoch):\n",
    "#         try:\n",
    "#             s, ms = divmod(int(epoch), 1000)  # (1236472051, 807)\n",
    "#         except Exception as e:\n",
    "#             raise e\n",
    "        \n",
    "#         return '{}.{:03d}'.format(time.strftime('%Y-%m-%d %H:%M:%S', time.gmtime(s)), ms)\n",
    "    \n",
    "    def serialize_movie(self,movie):\n",
    "        return {\n",
    "            'id': movie['id'],\n",
    "            'title': movie['title'],\n",
    "#             'summary': movie['description'],\n",
    "            'released': movie.get('releaseDate'),\n",
    "            'duration': movie['runtime'],\n",
    "            'rated': movie['rated'],\n",
    "            'imdbId': movie['imdbId'],\n",
    "            'genre': movie['genre']\n",
    "        }\n",
    "    \n",
    "    def movie(self,title):\n",
    "        query = ('MATCH (movie:Movie) ' +\n",
    "                 f'WHERE movie.title =~ \"{title}\" ' +\n",
    "                 'RETURN movie')\n",
    "        results = self.session.run(query)\n",
    "        return [self.serialize_movie(record['movie']) for record in results.data()]\n",
    "    \n",
    "    def same_genre_movies(self, title):\n",
    "        query = ('MATCH (movie:Movie) ' +\n",
    "                 f'WHERE movie.title = \"{title}\" '+\n",
    "                'WITH movie.genre as genre '+\n",
    "                'MATCH (movies:Movie) '+\n",
    "                'WHERE movies.genre = genre '+\n",
    "                'RETURN movies.title, movies.releaseDate, movies.genre, movies.imdbId '+\n",
    "                'LIMIT 100')\n",
    "        results = self.session.run(query)\n",
    "#         return [self.serialize_movie(record['movies']) for record in results.data()] # you should only return movies\n",
    "        return results.data()\n",
    "    \n",
    "    def movies_by_movie_director(self, title):\n",
    "        query = ('MATCH (movie:Movie)<-[:DIRECTED]-(director:Director) '+\n",
    "                f'WHERE movie.title = \"{title}\" '+\n",
    "                'MATCH (movies:Movie)<-[:DIRECTED]-(director) '+\n",
    "                'RETURN movies.title, movies.releaseDate, movies.genre, movies.imdbId '+\n",
    "                'LIMIT 100')\n",
    "        results = self.session.run(query)\n",
    "        return results.data()\n",
    "    \n",
    "    def movies_by_actor(self,actor):\n",
    "        query = ('MATCH (movies:Movie)<-[:ACTS_IN]-(actor:Actor) '+\n",
    "                f'WHERE actor.name = \"{actor}\" '+\n",
    "                'RETURN movies.title, movies.releaseDate, movies.genre, movies.imdbId ')\n",
    "        results = self.session.run(query)\n",
    "        return results.data()\n",
    "    \n",
    "    def movies_by_actor_and_genre(self,actor, genre):\n",
    "        query = ('MATCH (movies:Movie)<-[:ACTS_IN]-(actor:Actor) '+\n",
    "                f'WHERE actor.name = \"{actor}\" and movies.genre=\"{genre}\" '+\n",
    "                'RETURN movies.title, movies.releaseDate, movies.genre, movies.imdbId ')\n",
    "        results = self.session.run(query)\n",
    "        return results.data()\n",
    "    \n",
    "    def movies_shared_actors_with_genre(self,actor, genre):\n",
    "        query = ('MATCH (actor:Actor)-[:ACTS_IN]->(movie:Movie)<-[:ACTS_IN]-(actors:Actor) ' +\n",
    "            f'WHERE actor.name = \"{actor}\" ' +\n",
    "            'WITH actors ' +\n",
    "            'MATCH (actors)-[:ACTS_IN]->(movies:Movie) ' +\n",
    "           f'WHERE movies.genre=\"{genre}\" ' +\n",
    "            'RETURN movies.title, movies.releaseDate, movies.genre, movies.imdbId ' +\n",
    "            'LIMIT 100 ' )\n",
    "        print(query)\n",
    "        results = self.session.run(query)\n",
    "        return results.data()\n",
    "        \n",
    "    \n",
    "graph = KnowledgeRecommendation(\"bolt://localhost:11004\", \"neo4j\", \"123456\")"
   ]
  },
  {
   "cell_type": "code",
   "execution_count": 2,
   "metadata": {},
   "outputs": [
    {
     "name": "stdout",
     "output_type": "stream",
     "text": [
      "[{'id': '329', 'title': 'Jurassic Park', 'released': '739749600000', 'duration': 127, 'rated': None, 'imdbId': 'tt0107290', 'genre': 'Action'}]\n"
     ]
    }
   ],
   "source": [
    "avatar = graph.movie(\"Jurassic Park\")\n",
    "print(avatar)"
   ]
  },
  {
   "cell_type": "code",
   "execution_count": null,
   "metadata": {},
   "outputs": [],
   "source": [
    "other_movies = graph.same_genre_movies(\"Jurassic Park\")\n",
    "DataFrame(other_movies)"
   ]
  },
  {
   "cell_type": "code",
   "execution_count": null,
   "metadata": {},
   "outputs": [],
   "source": [
    "movies_director = graph.movies_by_movie_director(\"Jurassic Park\")\n",
    "DataFrame(movies_director)"
   ]
  },
  {
   "cell_type": "code",
   "execution_count": null,
   "metadata": {},
   "outputs": [],
   "source": [
    "actor = graph.movies_by_actor(\"Michael J. Fox\")\n",
    "DataFrame(actor)"
   ]
  },
  {
   "cell_type": "code",
   "execution_count": null,
   "metadata": {},
   "outputs": [],
   "source": [
    "actor_and_genre = graph.movies_by_actor_and_genre(\"Michael J. Fox\", \"Action\")\n",
    "DataFrame(actor_and_genre)"
   ]
  },
  {
   "cell_type": "code",
   "execution_count": null,
   "metadata": {},
   "outputs": [],
   "source": [
    "movies_other_actors_genre = graph.movies_shared_actors_with_genre(\"Michael J. Fox\", \"Animation\")\n",
    "DataFrame(movies_other_actors_genre)"
   ]
  },
  {
   "cell_type": "markdown",
   "metadata": {},
   "source": [
    "# Resources\n",
    "## Tutorials\n",
    "[Best tutorial ever](https://janakiev.com/blog/wikidata-mayors/)\n",
    "[Navegate the statements](https://en.wikibooks.org/wiki/SPARQL/WIKIDATA_Qualifiers,_References_and_Ranks)\n",
    "\n",
    "\n",
    "### Useful attributes for movies\n",
    "Awardsrecieved https://www.wikidata.org/wiki/Property:P166\n",
    "main subject https://www.wikidata.org/wiki/Property:P921\n",
    "genre https://www.wikidata.org/wiki/Property:P136\n",
    "box office https://www.wikidata.org/wiki/Property:P2142\n",
    "        \n"
   ]
  },
  {
   "cell_type": "code",
   "execution_count": 3,
   "metadata": {},
   "outputs": [],
   "source": [
    "op = 1\n",
    "if op == 1:\n",
    "    query = \"\"\"SELECT ?movie ?movieLabel ?main_subjectLabel ?genreLabel ?box WHERE {\n",
    "      ?movie wdt:P345 \"tt0107290\";\n",
    "        wdt:P921 ?main_subject;\n",
    "        wdt:P136 ?genre.\n",
    "      ?movie p:P2142 ?statement.\n",
    "      ?statement ps:P2142 ?box\n",
    "      SERVICE wikibase:label { bd:serviceParam wikibase:language \"en\". }\n",
    "    }\"\"\"\n",
    "elif op==2:\n",
    "    query = \"\"\"\n",
    "        SELECT \n",
    "          ?countryLabel ?population ?area ?medianIncome ?age\n",
    "        WHERE {\n",
    "          ?country wdt:P463 wd:Q458.\n",
    "          OPTIONAL { ?country wdt:P1082 ?population }\n",
    "          OPTIONAL { ?country wdt:P2046 ?area }\n",
    "          OPTIONAL { ?country wdt:P3529 ?medianIncome }\n",
    "          OPTIONAL { ?country wdt:P571 ?inception. \n",
    "            BIND(year(now()) - year(?inception) AS ?age)\n",
    "          }\n",
    "          SERVICE wikibase:label { bd:serviceParam wikibase:language \"en\". }\n",
    "        }\"\"\""
   ]
  },
  {
   "cell_type": "code",
   "execution_count": 4,
   "metadata": {},
   "outputs": [],
   "source": [
    "import requests\n",
    "\n",
    "url = 'https://query.wikidata.org/sparql'\n",
    "\n",
    "r = requests.get(url, params = {'format': 'json', 'query': query})\n",
    "data = r.json()"
   ]
  },
  {
   "cell_type": "code",
   "execution_count": 5,
   "metadata": {},
   "outputs": [
    {
     "data": {
      "text/plain": [
       "{'head': {'vars': ['movie',\n",
       "   'movieLabel',\n",
       "   'main_subjectLabel',\n",
       "   'genreLabel',\n",
       "   'box']},\n",
       " 'results': {'bindings': [{'movie': {'type': 'uri',\n",
       "     'value': 'http://www.wikidata.org/entity/Q167726'},\n",
       "    'box': {'datatype': 'http://www.w3.org/2001/XMLSchema#decimal',\n",
       "     'type': 'literal',\n",
       "     'value': '1029528120'},\n",
       "    'movieLabel': {'xml:lang': 'en',\n",
       "     'type': 'literal',\n",
       "     'value': 'Jurassic Park'},\n",
       "    'main_subjectLabel': {'xml:lang': 'en',\n",
       "     'type': 'literal',\n",
       "     'value': 'dinosaur'},\n",
       "    'genreLabel': {'xml:lang': 'en',\n",
       "     'type': 'literal',\n",
       "     'value': 'action film'}},\n",
       "   {'movie': {'type': 'uri',\n",
       "     'value': 'http://www.wikidata.org/entity/Q167726'},\n",
       "    'box': {'datatype': 'http://www.w3.org/2001/XMLSchema#decimal',\n",
       "     'type': 'literal',\n",
       "     'value': '1029528120'},\n",
       "    'movieLabel': {'xml:lang': 'en',\n",
       "     'type': 'literal',\n",
       "     'value': 'Jurassic Park'},\n",
       "    'main_subjectLabel': {'xml:lang': 'en',\n",
       "     'type': 'literal',\n",
       "     'value': 'dinosaur'},\n",
       "    'genreLabel': {'xml:lang': 'en',\n",
       "     'type': 'literal',\n",
       "     'value': 'horror film'}},\n",
       "   {'movie': {'type': 'uri',\n",
       "     'value': 'http://www.wikidata.org/entity/Q167726'},\n",
       "    'box': {'datatype': 'http://www.w3.org/2001/XMLSchema#decimal',\n",
       "     'type': 'literal',\n",
       "     'value': '1029528120'},\n",
       "    'movieLabel': {'xml:lang': 'en',\n",
       "     'type': 'literal',\n",
       "     'value': 'Jurassic Park'},\n",
       "    'main_subjectLabel': {'xml:lang': 'en',\n",
       "     'type': 'literal',\n",
       "     'value': 'dinosaur'},\n",
       "    'genreLabel': {'xml:lang': 'en',\n",
       "     'type': 'literal',\n",
       "     'value': 'adventure film'}},\n",
       "   {'movie': {'type': 'uri',\n",
       "     'value': 'http://www.wikidata.org/entity/Q167726'},\n",
       "    'box': {'datatype': 'http://www.w3.org/2001/XMLSchema#decimal',\n",
       "     'type': 'literal',\n",
       "     'value': '1029528120'},\n",
       "    'movieLabel': {'xml:lang': 'en',\n",
       "     'type': 'literal',\n",
       "     'value': 'Jurassic Park'},\n",
       "    'main_subjectLabel': {'xml:lang': 'en',\n",
       "     'type': 'literal',\n",
       "     'value': 'dinosaur'},\n",
       "    'genreLabel': {'xml:lang': 'en',\n",
       "     'type': 'literal',\n",
       "     'value': 'science fiction film'}},\n",
       "   {'movie': {'type': 'uri',\n",
       "     'value': 'http://www.wikidata.org/entity/Q167726'},\n",
       "    'box': {'datatype': 'http://www.w3.org/2001/XMLSchema#decimal',\n",
       "     'type': 'literal',\n",
       "     'value': '1029528120'},\n",
       "    'movieLabel': {'xml:lang': 'en',\n",
       "     'type': 'literal',\n",
       "     'value': 'Jurassic Park'},\n",
       "    'main_subjectLabel': {'xml:lang': 'en',\n",
       "     'type': 'literal',\n",
       "     'value': 'dinosaur'},\n",
       "    'genreLabel': {'xml:lang': 'en',\n",
       "     'type': 'literal',\n",
       "     'value': 'film based on literature'}}]}}"
      ]
     },
     "execution_count": 5,
     "metadata": {},
     "output_type": "execute_result"
    }
   ],
   "source": [
    "data"
   ]
  },
  {
   "cell_type": "code",
   "execution_count": null,
   "metadata": {},
   "outputs": [],
   "source": []
  }
 ],
 "metadata": {
  "kernelspec": {
   "display_name": "Python 3",
   "language": "python",
   "name": "python3"
  },
  "language_info": {
   "codemirror_mode": {
    "name": "ipython",
    "version": 3
   },
   "file_extension": ".py",
   "mimetype": "text/x-python",
   "name": "python",
   "nbconvert_exporter": "python",
   "pygments_lexer": "ipython3",
   "version": "3.7.0"
  }
 },
 "nbformat": 4,
 "nbformat_minor": 2
}
